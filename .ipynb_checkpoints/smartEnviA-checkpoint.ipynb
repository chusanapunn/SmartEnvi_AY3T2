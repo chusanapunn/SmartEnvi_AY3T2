{
 "cells": [
  {
   "cell_type": "code",
   "execution_count": 1,
   "metadata": {},
   "outputs": [],
   "source": [
    "import numpy as np\n",
    "import pandas as pd\n",
    "import matplotlib.pyplot as plt\n",
    "import seaborn as sns"
   ]
  },
  {
   "cell_type": "code",
   "execution_count": 120,
   "metadata": {},
   "outputs": [
    {
     "data": {
      "text/html": [
       "<div>\n",
       "<style scoped>\n",
       "    .dataframe tbody tr th:only-of-type {\n",
       "        vertical-align: middle;\n",
       "    }\n",
       "\n",
       "    .dataframe tbody tr th {\n",
       "        vertical-align: top;\n",
       "    }\n",
       "\n",
       "    .dataframe thead th {\n",
       "        text-align: right;\n",
       "    }\n",
       "</style>\n",
       "<table border=\"1\" class=\"dataframe\">\n",
       "  <thead>\n",
       "    <tr style=\"text-align: right;\">\n",
       "      <th></th>\n",
       "      <th>gw_timestamp</th>\n",
       "      <th>time_stamp</th>\n",
       "      <th>err_flag</th>\n",
       "      <th>wind_velocity</th>\n",
       "      <th>wind_direction</th>\n",
       "      <th>temperature</th>\n",
       "      <th>humidity</th>\n",
       "      <th>air_pressure</th>\n",
       "      <th>illuminance</th>\n",
       "      <th>rain_level</th>\n",
       "      <th>...</th>\n",
       "      <th>ultra_violet_b</th>\n",
       "      <th>acceleration_x</th>\n",
       "      <th>acceleration_y</th>\n",
       "      <th>acceleration_z</th>\n",
       "      <th>inclination_xz</th>\n",
       "      <th>inclination_yz</th>\n",
       "      <th>max_wind_velocity</th>\n",
       "      <th>direct_max_wind_velocity</th>\n",
       "      <th>max_inst_wind_velocity</th>\n",
       "      <th>direct_max_inst_wind_velocity</th>\n",
       "    </tr>\n",
       "  </thead>\n",
       "  <tbody>\n",
       "    <tr>\n",
       "      <th>0</th>\n",
       "      <td>2022-03-01 00:06:15 +07</td>\n",
       "      <td>2022-03-01 00:06:15 +07</td>\n",
       "      <td>0</td>\n",
       "      <td>0.688</td>\n",
       "      <td>1.130031e+09</td>\n",
       "      <td>28</td>\n",
       "      <td>83</td>\n",
       "      <td>1010</td>\n",
       "      <td>0</td>\n",
       "      <td>0</td>\n",
       "      <td>...</td>\n",
       "      <td>0.0</td>\n",
       "      <td>0</td>\n",
       "      <td>0</td>\n",
       "      <td>1</td>\n",
       "      <td>4.1</td>\n",
       "      <td>7.0</td>\n",
       "      <td>0.000</td>\n",
       "      <td>0</td>\n",
       "      <td>0.000</td>\n",
       "      <td>0</td>\n",
       "    </tr>\n",
       "    <tr>\n",
       "      <th>1</th>\n",
       "      <td>2022-03-01 00:16:15 +07</td>\n",
       "      <td>2022-03-01 00:16:15 +07</td>\n",
       "      <td>0</td>\n",
       "      <td>0.229</td>\n",
       "      <td>0.000000e+00</td>\n",
       "      <td>28</td>\n",
       "      <td>82</td>\n",
       "      <td>1010</td>\n",
       "      <td>0</td>\n",
       "      <td>0</td>\n",
       "      <td>...</td>\n",
       "      <td>0.0</td>\n",
       "      <td>0</td>\n",
       "      <td>0</td>\n",
       "      <td>1</td>\n",
       "      <td>4.1</td>\n",
       "      <td>7.1</td>\n",
       "      <td>0.000</td>\n",
       "      <td>0</td>\n",
       "      <td>0.000</td>\n",
       "      <td>0</td>\n",
       "    </tr>\n",
       "    <tr>\n",
       "      <th>2</th>\n",
       "      <td>2022-03-01 00:26:15 +07</td>\n",
       "      <td>2022-03-01 00:26:15 +07</td>\n",
       "      <td>0</td>\n",
       "      <td>0.808</td>\n",
       "      <td>1.129487e+09</td>\n",
       "      <td>28</td>\n",
       "      <td>83</td>\n",
       "      <td>1010</td>\n",
       "      <td>0</td>\n",
       "      <td>0</td>\n",
       "      <td>...</td>\n",
       "      <td>0.0</td>\n",
       "      <td>0</td>\n",
       "      <td>0</td>\n",
       "      <td>1</td>\n",
       "      <td>3.9</td>\n",
       "      <td>7.2</td>\n",
       "      <td>0.000</td>\n",
       "      <td>0</td>\n",
       "      <td>0.000</td>\n",
       "      <td>0</td>\n",
       "    </tr>\n",
       "    <tr>\n",
       "      <th>3</th>\n",
       "      <td>2022-03-01 00:36:15 +07</td>\n",
       "      <td>2022-03-01 00:36:15 +07</td>\n",
       "      <td>0</td>\n",
       "      <td>0.265</td>\n",
       "      <td>0.000000e+00</td>\n",
       "      <td>28</td>\n",
       "      <td>83</td>\n",
       "      <td>1010</td>\n",
       "      <td>0</td>\n",
       "      <td>0</td>\n",
       "      <td>...</td>\n",
       "      <td>0.0</td>\n",
       "      <td>0</td>\n",
       "      <td>0</td>\n",
       "      <td>1</td>\n",
       "      <td>4.1</td>\n",
       "      <td>7.1</td>\n",
       "      <td>0.000</td>\n",
       "      <td>0</td>\n",
       "      <td>0.000</td>\n",
       "      <td>0</td>\n",
       "    </tr>\n",
       "    <tr>\n",
       "      <th>4</th>\n",
       "      <td>2022-03-01 00:46:15 +07</td>\n",
       "      <td>2022-03-01 00:46:15 +07</td>\n",
       "      <td>0</td>\n",
       "      <td>0.339</td>\n",
       "      <td>1.132095e+09</td>\n",
       "      <td>28</td>\n",
       "      <td>83</td>\n",
       "      <td>1010</td>\n",
       "      <td>0</td>\n",
       "      <td>0</td>\n",
       "      <td>...</td>\n",
       "      <td>0.0</td>\n",
       "      <td>0</td>\n",
       "      <td>0</td>\n",
       "      <td>1</td>\n",
       "      <td>4.1</td>\n",
       "      <td>7.0</td>\n",
       "      <td>0.000</td>\n",
       "      <td>0</td>\n",
       "      <td>0.000</td>\n",
       "      <td>0</td>\n",
       "    </tr>\n",
       "    <tr>\n",
       "      <th>...</th>\n",
       "      <td>...</td>\n",
       "      <td>...</td>\n",
       "      <td>...</td>\n",
       "      <td>...</td>\n",
       "      <td>...</td>\n",
       "      <td>...</td>\n",
       "      <td>...</td>\n",
       "      <td>...</td>\n",
       "      <td>...</td>\n",
       "      <td>...</td>\n",
       "      <td>...</td>\n",
       "      <td>...</td>\n",
       "      <td>...</td>\n",
       "      <td>...</td>\n",
       "      <td>...</td>\n",
       "      <td>...</td>\n",
       "      <td>...</td>\n",
       "      <td>...</td>\n",
       "      <td>...</td>\n",
       "      <td>...</td>\n",
       "      <td>...</td>\n",
       "    </tr>\n",
       "    <tr>\n",
       "      <th>51856</th>\n",
       "      <td>2023-03-31 23:12:35 +07</td>\n",
       "      <td>2023-03-31 23:12:35 +07</td>\n",
       "      <td>32</td>\n",
       "      <td>0.884</td>\n",
       "      <td>1.380000e+02</td>\n",
       "      <td>29</td>\n",
       "      <td>78</td>\n",
       "      <td>1008</td>\n",
       "      <td>0</td>\n",
       "      <td>0</td>\n",
       "      <td>...</td>\n",
       "      <td>0.0</td>\n",
       "      <td>0</td>\n",
       "      <td>0</td>\n",
       "      <td>1</td>\n",
       "      <td>3.9</td>\n",
       "      <td>7.6</td>\n",
       "      <td>1.911</td>\n",
       "      <td>153</td>\n",
       "      <td>2.805</td>\n",
       "      <td>165</td>\n",
       "    </tr>\n",
       "    <tr>\n",
       "      <th>51857</th>\n",
       "      <td>2023-03-31 23:22:35 +07</td>\n",
       "      <td>2023-03-31 23:22:35 +07</td>\n",
       "      <td>32</td>\n",
       "      <td>0.881</td>\n",
       "      <td>1.233000e+02</td>\n",
       "      <td>29</td>\n",
       "      <td>77</td>\n",
       "      <td>1008</td>\n",
       "      <td>0</td>\n",
       "      <td>0</td>\n",
       "      <td>...</td>\n",
       "      <td>0.0</td>\n",
       "      <td>0</td>\n",
       "      <td>0</td>\n",
       "      <td>1</td>\n",
       "      <td>3.9</td>\n",
       "      <td>7.6</td>\n",
       "      <td>2.261</td>\n",
       "      <td>160</td>\n",
       "      <td>3.544</td>\n",
       "      <td>145</td>\n",
       "    </tr>\n",
       "    <tr>\n",
       "      <th>51858</th>\n",
       "      <td>2023-03-31 23:32:35 +07</td>\n",
       "      <td>2023-03-31 23:32:35 +07</td>\n",
       "      <td>32</td>\n",
       "      <td>1.021</td>\n",
       "      <td>1.329000e+02</td>\n",
       "      <td>29</td>\n",
       "      <td>77</td>\n",
       "      <td>1008</td>\n",
       "      <td>0</td>\n",
       "      <td>0</td>\n",
       "      <td>...</td>\n",
       "      <td>0.0</td>\n",
       "      <td>0</td>\n",
       "      <td>0</td>\n",
       "      <td>1</td>\n",
       "      <td>3.9</td>\n",
       "      <td>7.6</td>\n",
       "      <td>1.724</td>\n",
       "      <td>174</td>\n",
       "      <td>3.273</td>\n",
       "      <td>172</td>\n",
       "    </tr>\n",
       "    <tr>\n",
       "      <th>51859</th>\n",
       "      <td>2023-03-31 23:42:35 +07</td>\n",
       "      <td>2023-03-31 23:42:35 +07</td>\n",
       "      <td>32</td>\n",
       "      <td>1.330</td>\n",
       "      <td>1.641000e+02</td>\n",
       "      <td>29</td>\n",
       "      <td>77</td>\n",
       "      <td>1008</td>\n",
       "      <td>0</td>\n",
       "      <td>0</td>\n",
       "      <td>...</td>\n",
       "      <td>0.0</td>\n",
       "      <td>0</td>\n",
       "      <td>0</td>\n",
       "      <td>1</td>\n",
       "      <td>3.9</td>\n",
       "      <td>7.6</td>\n",
       "      <td>2.431</td>\n",
       "      <td>174</td>\n",
       "      <td>4.339</td>\n",
       "      <td>193</td>\n",
       "    </tr>\n",
       "    <tr>\n",
       "      <th>51860</th>\n",
       "      <td>2023-03-31 23:52:35 +07</td>\n",
       "      <td>2023-03-31 23:52:35 +07</td>\n",
       "      <td>32</td>\n",
       "      <td>1.200</td>\n",
       "      <td>1.388000e+02</td>\n",
       "      <td>29</td>\n",
       "      <td>77</td>\n",
       "      <td>1008</td>\n",
       "      <td>0</td>\n",
       "      <td>0</td>\n",
       "      <td>...</td>\n",
       "      <td>0.0</td>\n",
       "      <td>0</td>\n",
       "      <td>0</td>\n",
       "      <td>1</td>\n",
       "      <td>3.9</td>\n",
       "      <td>7.6</td>\n",
       "      <td>2.313</td>\n",
       "      <td>172</td>\n",
       "      <td>4.601</td>\n",
       "      <td>202</td>\n",
       "    </tr>\n",
       "  </tbody>\n",
       "</table>\n",
       "<p>51861 rows × 21 columns</p>\n",
       "</div>"
      ],
      "text/plain": [
       "                  gw_timestamp               time_stamp  err_flag  \\\n",
       "0      2022-03-01 00:06:15 +07  2022-03-01 00:06:15 +07         0   \n",
       "1      2022-03-01 00:16:15 +07  2022-03-01 00:16:15 +07         0   \n",
       "2      2022-03-01 00:26:15 +07  2022-03-01 00:26:15 +07         0   \n",
       "3      2022-03-01 00:36:15 +07  2022-03-01 00:36:15 +07         0   \n",
       "4      2022-03-01 00:46:15 +07  2022-03-01 00:46:15 +07         0   \n",
       "...                        ...                      ...       ...   \n",
       "51856  2023-03-31 23:12:35 +07  2023-03-31 23:12:35 +07        32   \n",
       "51857  2023-03-31 23:22:35 +07  2023-03-31 23:22:35 +07        32   \n",
       "51858  2023-03-31 23:32:35 +07  2023-03-31 23:32:35 +07        32   \n",
       "51859  2023-03-31 23:42:35 +07  2023-03-31 23:42:35 +07        32   \n",
       "51860  2023-03-31 23:52:35 +07  2023-03-31 23:52:35 +07        32   \n",
       "\n",
       "       wind_velocity  wind_direction  temperature  humidity  air_pressure  \\\n",
       "0              0.688    1.130031e+09           28        83          1010   \n",
       "1              0.229    0.000000e+00           28        82          1010   \n",
       "2              0.808    1.129487e+09           28        83          1010   \n",
       "3              0.265    0.000000e+00           28        83          1010   \n",
       "4              0.339    1.132095e+09           28        83          1010   \n",
       "...              ...             ...          ...       ...           ...   \n",
       "51856          0.884    1.380000e+02           29        78          1008   \n",
       "51857          0.881    1.233000e+02           29        77          1008   \n",
       "51858          1.021    1.329000e+02           29        77          1008   \n",
       "51859          1.330    1.641000e+02           29        77          1008   \n",
       "51860          1.200    1.388000e+02           29        77          1008   \n",
       "\n",
       "       illuminance  rain_level  ...  ultra_violet_b  acceleration_x  \\\n",
       "0                0           0  ...             0.0               0   \n",
       "1                0           0  ...             0.0               0   \n",
       "2                0           0  ...             0.0               0   \n",
       "3                0           0  ...             0.0               0   \n",
       "4                0           0  ...             0.0               0   \n",
       "...            ...         ...  ...             ...             ...   \n",
       "51856            0           0  ...             0.0               0   \n",
       "51857            0           0  ...             0.0               0   \n",
       "51858            0           0  ...             0.0               0   \n",
       "51859            0           0  ...             0.0               0   \n",
       "51860            0           0  ...             0.0               0   \n",
       "\n",
       "       acceleration_y  acceleration_z  inclination_xz  inclination_yz  \\\n",
       "0                   0               1             4.1             7.0   \n",
       "1                   0               1             4.1             7.1   \n",
       "2                   0               1             3.9             7.2   \n",
       "3                   0               1             4.1             7.1   \n",
       "4                   0               1             4.1             7.0   \n",
       "...               ...             ...             ...             ...   \n",
       "51856               0               1             3.9             7.6   \n",
       "51857               0               1             3.9             7.6   \n",
       "51858               0               1             3.9             7.6   \n",
       "51859               0               1             3.9             7.6   \n",
       "51860               0               1             3.9             7.6   \n",
       "\n",
       "       max_wind_velocity  direct_max_wind_velocity  max_inst_wind_velocity  \\\n",
       "0                  0.000                         0                   0.000   \n",
       "1                  0.000                         0                   0.000   \n",
       "2                  0.000                         0                   0.000   \n",
       "3                  0.000                         0                   0.000   \n",
       "4                  0.000                         0                   0.000   \n",
       "...                  ...                       ...                     ...   \n",
       "51856              1.911                       153                   2.805   \n",
       "51857              2.261                       160                   3.544   \n",
       "51858              1.724                       174                   3.273   \n",
       "51859              2.431                       174                   4.339   \n",
       "51860              2.313                       172                   4.601   \n",
       "\n",
       "       direct_max_inst_wind_velocity  \n",
       "0                                  0  \n",
       "1                                  0  \n",
       "2                                  0  \n",
       "3                                  0  \n",
       "4                                  0  \n",
       "...                              ...  \n",
       "51856                            165  \n",
       "51857                            145  \n",
       "51858                            172  \n",
       "51859                            193  \n",
       "51860                            202  \n",
       "\n",
       "[51861 rows x 21 columns]"
      ]
     },
     "execution_count": 120,
     "metadata": {},
     "output_type": "execute_result"
    }
   ],
   "source": [
    "mar22_df = pd.read_csv('TU_enviData0322.csv')\n",
    "apr22_df = pd.read_csv('TU_enviData0422.csv')\n",
    "may22_df = pd.read_csv('TU_enviData0522.csv')\n",
    "jun22_df = pd.read_csv('TU_enviData0622.csv')\n",
    "jul22_df = pd.read_csv('TU_enviData0722.csv')\n",
    "aug22_df = pd.read_csv('TU_enviData0822.csv')\n",
    "sep22_df = pd.read_csv('TU_enviData0922.csv')\n",
    "oct22_df = pd.read_csv('TU_enviData1022.csv')\n",
    "nov22_df = pd.read_csv('TU_enviData1122.csv')\n",
    "dec22_df = pd.read_csv('TU_enviData1222.csv')\n",
    "\n",
    "jan23_df = pd.read_csv('TU_enviData0123.csv')\n",
    "feb23_df = pd.read_csv('TU_enviData0223.csv')\n",
    "mar23_df = pd.read_csv('TU_enviData0323.csv')\n",
    "df_list = [mar22_df,apr22_df,may22_df,jun22_df,jul22_df,aug22_df,\n",
    "          sep22_df,oct22_df,nov22_df,dec22_df,jan23_df,feb23_df,mar23_df]\n",
    "all_df = pd.concat(df_list, ignore_index=True)\n",
    "all_df"
   ]
  },
  {
   "cell_type": "markdown",
   "metadata": {},
   "source": [
    "## Exploratory Data Analysis"
   ]
  },
  {
   "cell_type": "code",
   "execution_count": 127,
   "metadata": {},
   "outputs": [
    {
     "data": {
      "text/html": [
       "<div>\n",
       "<style scoped>\n",
       "    .dataframe tbody tr th:only-of-type {\n",
       "        vertical-align: middle;\n",
       "    }\n",
       "\n",
       "    .dataframe tbody tr th {\n",
       "        vertical-align: top;\n",
       "    }\n",
       "\n",
       "    .dataframe thead th {\n",
       "        text-align: right;\n",
       "    }\n",
       "</style>\n",
       "<table border=\"1\" class=\"dataframe\">\n",
       "  <thead>\n",
       "    <tr style=\"text-align: right;\">\n",
       "      <th></th>\n",
       "      <th>time_stamp</th>\n",
       "      <th>wind_velocity</th>\n",
       "      <th>temperature</th>\n",
       "      <th>humidity</th>\n",
       "      <th>air_pressure</th>\n",
       "      <th>illuminance</th>\n",
       "      <th>rain_level</th>\n",
       "      <th>ultra_violet_a</th>\n",
       "    </tr>\n",
       "  </thead>\n",
       "  <tbody>\n",
       "    <tr>\n",
       "      <th>0</th>\n",
       "      <td>2022-03-01 00:06:15 +07</td>\n",
       "      <td>0.688</td>\n",
       "      <td>28</td>\n",
       "      <td>83</td>\n",
       "      <td>1010</td>\n",
       "      <td>0</td>\n",
       "      <td>0</td>\n",
       "      <td>0.02</td>\n",
       "    </tr>\n",
       "    <tr>\n",
       "      <th>1</th>\n",
       "      <td>2022-03-01 00:16:15 +07</td>\n",
       "      <td>0.229</td>\n",
       "      <td>28</td>\n",
       "      <td>82</td>\n",
       "      <td>1010</td>\n",
       "      <td>0</td>\n",
       "      <td>0</td>\n",
       "      <td>0.03</td>\n",
       "    </tr>\n",
       "    <tr>\n",
       "      <th>2</th>\n",
       "      <td>2022-03-01 00:26:15 +07</td>\n",
       "      <td>0.808</td>\n",
       "      <td>28</td>\n",
       "      <td>83</td>\n",
       "      <td>1010</td>\n",
       "      <td>0</td>\n",
       "      <td>0</td>\n",
       "      <td>0.02</td>\n",
       "    </tr>\n",
       "    <tr>\n",
       "      <th>3</th>\n",
       "      <td>2022-03-01 00:36:15 +07</td>\n",
       "      <td>0.265</td>\n",
       "      <td>28</td>\n",
       "      <td>83</td>\n",
       "      <td>1010</td>\n",
       "      <td>0</td>\n",
       "      <td>0</td>\n",
       "      <td>0.02</td>\n",
       "    </tr>\n",
       "    <tr>\n",
       "      <th>4</th>\n",
       "      <td>2022-03-01 00:46:15 +07</td>\n",
       "      <td>0.339</td>\n",
       "      <td>28</td>\n",
       "      <td>83</td>\n",
       "      <td>1010</td>\n",
       "      <td>0</td>\n",
       "      <td>0</td>\n",
       "      <td>0.02</td>\n",
       "    </tr>\n",
       "    <tr>\n",
       "      <th>...</th>\n",
       "      <td>...</td>\n",
       "      <td>...</td>\n",
       "      <td>...</td>\n",
       "      <td>...</td>\n",
       "      <td>...</td>\n",
       "      <td>...</td>\n",
       "      <td>...</td>\n",
       "      <td>...</td>\n",
       "    </tr>\n",
       "    <tr>\n",
       "      <th>51856</th>\n",
       "      <td>2023-03-31 23:12:35 +07</td>\n",
       "      <td>0.884</td>\n",
       "      <td>29</td>\n",
       "      <td>78</td>\n",
       "      <td>1008</td>\n",
       "      <td>0</td>\n",
       "      <td>0</td>\n",
       "      <td>0.02</td>\n",
       "    </tr>\n",
       "    <tr>\n",
       "      <th>51857</th>\n",
       "      <td>2023-03-31 23:22:35 +07</td>\n",
       "      <td>0.881</td>\n",
       "      <td>29</td>\n",
       "      <td>77</td>\n",
       "      <td>1008</td>\n",
       "      <td>0</td>\n",
       "      <td>0</td>\n",
       "      <td>0.02</td>\n",
       "    </tr>\n",
       "    <tr>\n",
       "      <th>51858</th>\n",
       "      <td>2023-03-31 23:32:35 +07</td>\n",
       "      <td>1.021</td>\n",
       "      <td>29</td>\n",
       "      <td>77</td>\n",
       "      <td>1008</td>\n",
       "      <td>0</td>\n",
       "      <td>0</td>\n",
       "      <td>0.02</td>\n",
       "    </tr>\n",
       "    <tr>\n",
       "      <th>51859</th>\n",
       "      <td>2023-03-31 23:42:35 +07</td>\n",
       "      <td>1.330</td>\n",
       "      <td>29</td>\n",
       "      <td>77</td>\n",
       "      <td>1008</td>\n",
       "      <td>0</td>\n",
       "      <td>0</td>\n",
       "      <td>0.02</td>\n",
       "    </tr>\n",
       "    <tr>\n",
       "      <th>51860</th>\n",
       "      <td>2023-03-31 23:52:35 +07</td>\n",
       "      <td>1.200</td>\n",
       "      <td>29</td>\n",
       "      <td>77</td>\n",
       "      <td>1008</td>\n",
       "      <td>0</td>\n",
       "      <td>0</td>\n",
       "      <td>0.02</td>\n",
       "    </tr>\n",
       "  </tbody>\n",
       "</table>\n",
       "<p>51861 rows × 8 columns</p>\n",
       "</div>"
      ],
      "text/plain": [
       "                    time_stamp  wind_velocity  temperature  humidity  \\\n",
       "0      2022-03-01 00:06:15 +07          0.688           28        83   \n",
       "1      2022-03-01 00:16:15 +07          0.229           28        82   \n",
       "2      2022-03-01 00:26:15 +07          0.808           28        83   \n",
       "3      2022-03-01 00:36:15 +07          0.265           28        83   \n",
       "4      2022-03-01 00:46:15 +07          0.339           28        83   \n",
       "...                        ...            ...          ...       ...   \n",
       "51856  2023-03-31 23:12:35 +07          0.884           29        78   \n",
       "51857  2023-03-31 23:22:35 +07          0.881           29        77   \n",
       "51858  2023-03-31 23:32:35 +07          1.021           29        77   \n",
       "51859  2023-03-31 23:42:35 +07          1.330           29        77   \n",
       "51860  2023-03-31 23:52:35 +07          1.200           29        77   \n",
       "\n",
       "       air_pressure  illuminance  rain_level  ultra_violet_a  \n",
       "0              1010            0           0            0.02  \n",
       "1              1010            0           0            0.03  \n",
       "2              1010            0           0            0.02  \n",
       "3              1010            0           0            0.02  \n",
       "4              1010            0           0            0.02  \n",
       "...             ...          ...         ...             ...  \n",
       "51856          1008            0           0            0.02  \n",
       "51857          1008            0           0            0.02  \n",
       "51858          1008            0           0            0.02  \n",
       "51859          1008            0           0            0.02  \n",
       "51860          1008            0           0            0.02  \n",
       "\n",
       "[51861 rows x 8 columns]"
      ]
     },
     "execution_count": 127,
     "metadata": {},
     "output_type": "execute_result"
    }
   ],
   "source": [
    "# 1) same data from gw_timestamp-timestamp -> leave only one 2) no change in [err_flag,ultra_violet_b]\n",
    "# get new cut dataframe from original dataframe\n",
    "cut_lists = [\"gw_timestamp\",\"err_flag\",\"acceleration_x\",\"acceleration_y\",\"acceleration_z\",\"inclination_xz\",\"inclination_yz\",\"ultra_violet_b\",\"wind_direction\",\"max_wind_velocity\",\"direct_max_wind_velocity\",\"max_inst_wind_velocity\",\"direct_max_inst_wind_velocity\"]\n",
    "prep_df = all_df.drop(cut_lists,axis=1)\n",
    "prep_df"
   ]
  },
  {
   "cell_type": "code",
   "execution_count": 128,
   "metadata": {},
   "outputs": [
    {
     "data": {
      "text/html": [
       "<div>\n",
       "<style scoped>\n",
       "    .dataframe tbody tr th:only-of-type {\n",
       "        vertical-align: middle;\n",
       "    }\n",
       "\n",
       "    .dataframe tbody tr th {\n",
       "        vertical-align: top;\n",
       "    }\n",
       "\n",
       "    .dataframe thead th {\n",
       "        text-align: right;\n",
       "    }\n",
       "</style>\n",
       "<table border=\"1\" class=\"dataframe\">\n",
       "  <thead>\n",
       "    <tr style=\"text-align: right;\">\n",
       "      <th></th>\n",
       "      <th>wind_velocity</th>\n",
       "      <th>temperature</th>\n",
       "      <th>humidity</th>\n",
       "      <th>air_pressure</th>\n",
       "      <th>illuminance</th>\n",
       "      <th>rain_level</th>\n",
       "      <th>ultra_violet_a</th>\n",
       "    </tr>\n",
       "  </thead>\n",
       "  <tbody>\n",
       "    <tr>\n",
       "      <th>count</th>\n",
       "      <td>51861.000000</td>\n",
       "      <td>51861.000000</td>\n",
       "      <td>51861.000000</td>\n",
       "      <td>51861.000000</td>\n",
       "      <td>51861.000000</td>\n",
       "      <td>51861.000000</td>\n",
       "      <td>51861.000000</td>\n",
       "    </tr>\n",
       "    <tr>\n",
       "      <th>mean</th>\n",
       "      <td>24.494598</td>\n",
       "      <td>28.624920</td>\n",
       "      <td>73.742986</td>\n",
       "      <td>1006.726731</td>\n",
       "      <td>26581.349048</td>\n",
       "      <td>2.136442</td>\n",
       "      <td>6.629735</td>\n",
       "    </tr>\n",
       "    <tr>\n",
       "      <th>std</th>\n",
       "      <td>625.225129</td>\n",
       "      <td>3.680385</td>\n",
       "      <td>15.335252</td>\n",
       "      <td>32.201279</td>\n",
       "      <td>39619.260360</td>\n",
       "      <td>19.398189</td>\n",
       "      <td>13.995696</td>\n",
       "    </tr>\n",
       "    <tr>\n",
       "      <th>min</th>\n",
       "      <td>0.000000</td>\n",
       "      <td>0.000000</td>\n",
       "      <td>0.000000</td>\n",
       "      <td>0.000000</td>\n",
       "      <td>0.000000</td>\n",
       "      <td>0.000000</td>\n",
       "      <td>0.000000</td>\n",
       "    </tr>\n",
       "    <tr>\n",
       "      <th>25%</th>\n",
       "      <td>0.681000</td>\n",
       "      <td>26.000000</td>\n",
       "      <td>63.000000</td>\n",
       "      <td>1006.000000</td>\n",
       "      <td>0.000000</td>\n",
       "      <td>0.000000</td>\n",
       "      <td>0.070000</td>\n",
       "    </tr>\n",
       "    <tr>\n",
       "      <th>50%</th>\n",
       "      <td>0.974000</td>\n",
       "      <td>28.000000</td>\n",
       "      <td>75.000000</td>\n",
       "      <td>1008.000000</td>\n",
       "      <td>374.000000</td>\n",
       "      <td>0.000000</td>\n",
       "      <td>0.260000</td>\n",
       "    </tr>\n",
       "    <tr>\n",
       "      <th>75%</th>\n",
       "      <td>1.288000</td>\n",
       "      <td>31.000000</td>\n",
       "      <td>86.000000</td>\n",
       "      <td>1010.000000</td>\n",
       "      <td>45570.000000</td>\n",
       "      <td>0.000000</td>\n",
       "      <td>4.860000</td>\n",
       "    </tr>\n",
       "    <tr>\n",
       "      <th>max</th>\n",
       "      <td>16677.216797</td>\n",
       "      <td>40.000000</td>\n",
       "      <td>100.000000</td>\n",
       "      <td>1019.000000</td>\n",
       "      <td>187166.000000</td>\n",
       "      <td>254.000000</td>\n",
       "      <td>328.329987</td>\n",
       "    </tr>\n",
       "  </tbody>\n",
       "</table>\n",
       "</div>"
      ],
      "text/plain": [
       "       wind_velocity   temperature      humidity  air_pressure    illuminance  \\\n",
       "count   51861.000000  51861.000000  51861.000000  51861.000000   51861.000000   \n",
       "mean       24.494598     28.624920     73.742986   1006.726731   26581.349048   \n",
       "std       625.225129      3.680385     15.335252     32.201279   39619.260360   \n",
       "min         0.000000      0.000000      0.000000      0.000000       0.000000   \n",
       "25%         0.681000     26.000000     63.000000   1006.000000       0.000000   \n",
       "50%         0.974000     28.000000     75.000000   1008.000000     374.000000   \n",
       "75%         1.288000     31.000000     86.000000   1010.000000   45570.000000   \n",
       "max     16677.216797     40.000000    100.000000   1019.000000  187166.000000   \n",
       "\n",
       "         rain_level  ultra_violet_a  \n",
       "count  51861.000000    51861.000000  \n",
       "mean       2.136442        6.629735  \n",
       "std       19.398189       13.995696  \n",
       "min        0.000000        0.000000  \n",
       "25%        0.000000        0.070000  \n",
       "50%        0.000000        0.260000  \n",
       "75%        0.000000        4.860000  \n",
       "max      254.000000      328.329987  "
      ]
     },
     "execution_count": 128,
     "metadata": {},
     "output_type": "execute_result"
    }
   ],
   "source": [
    "prep_df.describe()"
   ]
  },
  {
   "cell_type": "code",
   "execution_count": 129,
   "metadata": {},
   "outputs": [
    {
     "data": {
      "text/html": [
       "<div>\n",
       "<style scoped>\n",
       "    .dataframe tbody tr th:only-of-type {\n",
       "        vertical-align: middle;\n",
       "    }\n",
       "\n",
       "    .dataframe tbody tr th {\n",
       "        vertical-align: top;\n",
       "    }\n",
       "\n",
       "    .dataframe thead th {\n",
       "        text-align: right;\n",
       "    }\n",
       "</style>\n",
       "<table border=\"1\" class=\"dataframe\">\n",
       "  <thead>\n",
       "    <tr style=\"text-align: right;\">\n",
       "      <th></th>\n",
       "      <th>illuminance</th>\n",
       "      <th>time_stamp</th>\n",
       "      <th>wind_velocity</th>\n",
       "      <th>temperature</th>\n",
       "      <th>humidity</th>\n",
       "      <th>air_pressure</th>\n",
       "      <th>rain_level</th>\n",
       "      <th>ultra_violet_a</th>\n",
       "    </tr>\n",
       "  </thead>\n",
       "  <tbody>\n",
       "    <tr>\n",
       "      <th>0</th>\n",
       "      <td>0.0</td>\n",
       "      <td>2022-03-01 00:06:15 +07</td>\n",
       "      <td>0.688</td>\n",
       "      <td>28</td>\n",
       "      <td>83</td>\n",
       "      <td>1010</td>\n",
       "      <td>0</td>\n",
       "      <td>0.02</td>\n",
       "    </tr>\n",
       "    <tr>\n",
       "      <th>1</th>\n",
       "      <td>0.0</td>\n",
       "      <td>2022-03-01 00:16:15 +07</td>\n",
       "      <td>0.229</td>\n",
       "      <td>28</td>\n",
       "      <td>82</td>\n",
       "      <td>1010</td>\n",
       "      <td>0</td>\n",
       "      <td>0.03</td>\n",
       "    </tr>\n",
       "    <tr>\n",
       "      <th>2</th>\n",
       "      <td>0.0</td>\n",
       "      <td>2022-03-01 00:26:15 +07</td>\n",
       "      <td>0.808</td>\n",
       "      <td>28</td>\n",
       "      <td>83</td>\n",
       "      <td>1010</td>\n",
       "      <td>0</td>\n",
       "      <td>0.02</td>\n",
       "    </tr>\n",
       "    <tr>\n",
       "      <th>3</th>\n",
       "      <td>0.0</td>\n",
       "      <td>2022-03-01 00:36:15 +07</td>\n",
       "      <td>0.265</td>\n",
       "      <td>28</td>\n",
       "      <td>83</td>\n",
       "      <td>1010</td>\n",
       "      <td>0</td>\n",
       "      <td>0.02</td>\n",
       "    </tr>\n",
       "    <tr>\n",
       "      <th>4</th>\n",
       "      <td>0.0</td>\n",
       "      <td>2022-03-01 00:46:15 +07</td>\n",
       "      <td>0.339</td>\n",
       "      <td>28</td>\n",
       "      <td>83</td>\n",
       "      <td>1010</td>\n",
       "      <td>0</td>\n",
       "      <td>0.02</td>\n",
       "    </tr>\n",
       "    <tr>\n",
       "      <th>...</th>\n",
       "      <td>...</td>\n",
       "      <td>...</td>\n",
       "      <td>...</td>\n",
       "      <td>...</td>\n",
       "      <td>...</td>\n",
       "      <td>...</td>\n",
       "      <td>...</td>\n",
       "      <td>...</td>\n",
       "    </tr>\n",
       "    <tr>\n",
       "      <th>51856</th>\n",
       "      <td>0.0</td>\n",
       "      <td>2023-03-31 23:12:35 +07</td>\n",
       "      <td>0.884</td>\n",
       "      <td>29</td>\n",
       "      <td>78</td>\n",
       "      <td>1008</td>\n",
       "      <td>0</td>\n",
       "      <td>0.02</td>\n",
       "    </tr>\n",
       "    <tr>\n",
       "      <th>51857</th>\n",
       "      <td>0.0</td>\n",
       "      <td>2023-03-31 23:22:35 +07</td>\n",
       "      <td>0.881</td>\n",
       "      <td>29</td>\n",
       "      <td>77</td>\n",
       "      <td>1008</td>\n",
       "      <td>0</td>\n",
       "      <td>0.02</td>\n",
       "    </tr>\n",
       "    <tr>\n",
       "      <th>51858</th>\n",
       "      <td>0.0</td>\n",
       "      <td>2023-03-31 23:32:35 +07</td>\n",
       "      <td>1.021</td>\n",
       "      <td>29</td>\n",
       "      <td>77</td>\n",
       "      <td>1008</td>\n",
       "      <td>0</td>\n",
       "      <td>0.02</td>\n",
       "    </tr>\n",
       "    <tr>\n",
       "      <th>51859</th>\n",
       "      <td>0.0</td>\n",
       "      <td>2023-03-31 23:42:35 +07</td>\n",
       "      <td>1.330</td>\n",
       "      <td>29</td>\n",
       "      <td>77</td>\n",
       "      <td>1008</td>\n",
       "      <td>0</td>\n",
       "      <td>0.02</td>\n",
       "    </tr>\n",
       "    <tr>\n",
       "      <th>51860</th>\n",
       "      <td>0.0</td>\n",
       "      <td>2023-03-31 23:52:35 +07</td>\n",
       "      <td>1.200</td>\n",
       "      <td>29</td>\n",
       "      <td>77</td>\n",
       "      <td>1008</td>\n",
       "      <td>0</td>\n",
       "      <td>0.02</td>\n",
       "    </tr>\n",
       "  </tbody>\n",
       "</table>\n",
       "<p>51861 rows × 8 columns</p>\n",
       "</div>"
      ],
      "text/plain": [
       "       illuminance               time_stamp  wind_velocity  temperature  \\\n",
       "0              0.0  2022-03-01 00:06:15 +07          0.688           28   \n",
       "1              0.0  2022-03-01 00:16:15 +07          0.229           28   \n",
       "2              0.0  2022-03-01 00:26:15 +07          0.808           28   \n",
       "3              0.0  2022-03-01 00:36:15 +07          0.265           28   \n",
       "4              0.0  2022-03-01 00:46:15 +07          0.339           28   \n",
       "...            ...                      ...            ...          ...   \n",
       "51856          0.0  2023-03-31 23:12:35 +07          0.884           29   \n",
       "51857          0.0  2023-03-31 23:22:35 +07          0.881           29   \n",
       "51858          0.0  2023-03-31 23:32:35 +07          1.021           29   \n",
       "51859          0.0  2023-03-31 23:42:35 +07          1.330           29   \n",
       "51860          0.0  2023-03-31 23:52:35 +07          1.200           29   \n",
       "\n",
       "       humidity  air_pressure  rain_level  ultra_violet_a  \n",
       "0            83          1010           0            0.02  \n",
       "1            82          1010           0            0.03  \n",
       "2            83          1010           0            0.02  \n",
       "3            83          1010           0            0.02  \n",
       "4            83          1010           0            0.02  \n",
       "...         ...           ...         ...             ...  \n",
       "51856        78          1008           0            0.02  \n",
       "51857        77          1008           0            0.02  \n",
       "51858        77          1008           0            0.02  \n",
       "51859        77          1008           0            0.02  \n",
       "51860        77          1008           0            0.02  \n",
       "\n",
       "[51861 rows x 8 columns]"
      ]
     },
     "execution_count": 129,
     "metadata": {},
     "output_type": "execute_result"
    }
   ],
   "source": [
    "# find correlation to illuminance according to other data\n",
    "# shift illuminance to first data for convenience\n",
    "\n",
    "prep_df.insert(0,\"illuminance_temp\",ogc[\"illuminance\"])\n",
    "prep_df.drop(\"illuminance\",axis=1,inplace=True)\n",
    "prep_df.rename(columns={\"illuminance_temp\":\"illuminance\"},inplace=True)\n",
    "prep_df=prep_df.replace(np.nan,0)\n",
    "prep_df"
   ]
  },
  {
   "cell_type": "markdown",
   "metadata": {},
   "source": [
    "## Daily View"
   ]
  },
  {
   "cell_type": "code",
   "execution_count": 130,
   "metadata": {},
   "outputs": [
    {
     "data": {
      "text/html": [
       "<div>\n",
       "<style scoped>\n",
       "    .dataframe tbody tr th:only-of-type {\n",
       "        vertical-align: middle;\n",
       "    }\n",
       "\n",
       "    .dataframe tbody tr th {\n",
       "        vertical-align: top;\n",
       "    }\n",
       "\n",
       "    .dataframe thead th {\n",
       "        text-align: right;\n",
       "    }\n",
       "</style>\n",
       "<table border=\"1\" class=\"dataframe\">\n",
       "  <thead>\n",
       "    <tr style=\"text-align: right;\">\n",
       "      <th></th>\n",
       "      <th>illuminance</th>\n",
       "      <th>time_stamp</th>\n",
       "      <th>wind_velocity</th>\n",
       "      <th>temperature</th>\n",
       "      <th>humidity</th>\n",
       "      <th>air_pressure</th>\n",
       "      <th>rain_level</th>\n",
       "      <th>ultra_violet_a</th>\n",
       "      <th>hour</th>\n",
       "      <th>month</th>\n",
       "    </tr>\n",
       "  </thead>\n",
       "  <tbody>\n",
       "    <tr>\n",
       "      <th>0</th>\n",
       "      <td>0.0</td>\n",
       "      <td>2022-03-01 00:06:15+07:00</td>\n",
       "      <td>0.688</td>\n",
       "      <td>28</td>\n",
       "      <td>83</td>\n",
       "      <td>1010</td>\n",
       "      <td>0</td>\n",
       "      <td>0.02</td>\n",
       "      <td>0</td>\n",
       "      <td>3</td>\n",
       "    </tr>\n",
       "    <tr>\n",
       "      <th>1</th>\n",
       "      <td>0.0</td>\n",
       "      <td>2022-03-01 00:16:15+07:00</td>\n",
       "      <td>0.229</td>\n",
       "      <td>28</td>\n",
       "      <td>82</td>\n",
       "      <td>1010</td>\n",
       "      <td>0</td>\n",
       "      <td>0.03</td>\n",
       "      <td>0</td>\n",
       "      <td>3</td>\n",
       "    </tr>\n",
       "    <tr>\n",
       "      <th>2</th>\n",
       "      <td>0.0</td>\n",
       "      <td>2022-03-01 00:26:15+07:00</td>\n",
       "      <td>0.808</td>\n",
       "      <td>28</td>\n",
       "      <td>83</td>\n",
       "      <td>1010</td>\n",
       "      <td>0</td>\n",
       "      <td>0.02</td>\n",
       "      <td>0</td>\n",
       "      <td>3</td>\n",
       "    </tr>\n",
       "    <tr>\n",
       "      <th>3</th>\n",
       "      <td>0.0</td>\n",
       "      <td>2022-03-01 00:36:15+07:00</td>\n",
       "      <td>0.265</td>\n",
       "      <td>28</td>\n",
       "      <td>83</td>\n",
       "      <td>1010</td>\n",
       "      <td>0</td>\n",
       "      <td>0.02</td>\n",
       "      <td>0</td>\n",
       "      <td>3</td>\n",
       "    </tr>\n",
       "    <tr>\n",
       "      <th>4</th>\n",
       "      <td>0.0</td>\n",
       "      <td>2022-03-01 00:46:15+07:00</td>\n",
       "      <td>0.339</td>\n",
       "      <td>28</td>\n",
       "      <td>83</td>\n",
       "      <td>1010</td>\n",
       "      <td>0</td>\n",
       "      <td>0.02</td>\n",
       "      <td>0</td>\n",
       "      <td>3</td>\n",
       "    </tr>\n",
       "    <tr>\n",
       "      <th>...</th>\n",
       "      <td>...</td>\n",
       "      <td>...</td>\n",
       "      <td>...</td>\n",
       "      <td>...</td>\n",
       "      <td>...</td>\n",
       "      <td>...</td>\n",
       "      <td>...</td>\n",
       "      <td>...</td>\n",
       "      <td>...</td>\n",
       "      <td>...</td>\n",
       "    </tr>\n",
       "    <tr>\n",
       "      <th>51856</th>\n",
       "      <td>0.0</td>\n",
       "      <td>2023-03-31 23:12:35+07:00</td>\n",
       "      <td>0.884</td>\n",
       "      <td>29</td>\n",
       "      <td>78</td>\n",
       "      <td>1008</td>\n",
       "      <td>0</td>\n",
       "      <td>0.02</td>\n",
       "      <td>23</td>\n",
       "      <td>3</td>\n",
       "    </tr>\n",
       "    <tr>\n",
       "      <th>51857</th>\n",
       "      <td>0.0</td>\n",
       "      <td>2023-03-31 23:22:35+07:00</td>\n",
       "      <td>0.881</td>\n",
       "      <td>29</td>\n",
       "      <td>77</td>\n",
       "      <td>1008</td>\n",
       "      <td>0</td>\n",
       "      <td>0.02</td>\n",
       "      <td>23</td>\n",
       "      <td>3</td>\n",
       "    </tr>\n",
       "    <tr>\n",
       "      <th>51858</th>\n",
       "      <td>0.0</td>\n",
       "      <td>2023-03-31 23:32:35+07:00</td>\n",
       "      <td>1.021</td>\n",
       "      <td>29</td>\n",
       "      <td>77</td>\n",
       "      <td>1008</td>\n",
       "      <td>0</td>\n",
       "      <td>0.02</td>\n",
       "      <td>23</td>\n",
       "      <td>3</td>\n",
       "    </tr>\n",
       "    <tr>\n",
       "      <th>51859</th>\n",
       "      <td>0.0</td>\n",
       "      <td>2023-03-31 23:42:35+07:00</td>\n",
       "      <td>1.330</td>\n",
       "      <td>29</td>\n",
       "      <td>77</td>\n",
       "      <td>1008</td>\n",
       "      <td>0</td>\n",
       "      <td>0.02</td>\n",
       "      <td>23</td>\n",
       "      <td>3</td>\n",
       "    </tr>\n",
       "    <tr>\n",
       "      <th>51860</th>\n",
       "      <td>0.0</td>\n",
       "      <td>2023-03-31 23:52:35+07:00</td>\n",
       "      <td>1.200</td>\n",
       "      <td>29</td>\n",
       "      <td>77</td>\n",
       "      <td>1008</td>\n",
       "      <td>0</td>\n",
       "      <td>0.02</td>\n",
       "      <td>23</td>\n",
       "      <td>3</td>\n",
       "    </tr>\n",
       "  </tbody>\n",
       "</table>\n",
       "<p>51861 rows × 10 columns</p>\n",
       "</div>"
      ],
      "text/plain": [
       "       illuminance                time_stamp  wind_velocity  temperature  \\\n",
       "0              0.0 2022-03-01 00:06:15+07:00          0.688           28   \n",
       "1              0.0 2022-03-01 00:16:15+07:00          0.229           28   \n",
       "2              0.0 2022-03-01 00:26:15+07:00          0.808           28   \n",
       "3              0.0 2022-03-01 00:36:15+07:00          0.265           28   \n",
       "4              0.0 2022-03-01 00:46:15+07:00          0.339           28   \n",
       "...            ...                       ...            ...          ...   \n",
       "51856          0.0 2023-03-31 23:12:35+07:00          0.884           29   \n",
       "51857          0.0 2023-03-31 23:22:35+07:00          0.881           29   \n",
       "51858          0.0 2023-03-31 23:32:35+07:00          1.021           29   \n",
       "51859          0.0 2023-03-31 23:42:35+07:00          1.330           29   \n",
       "51860          0.0 2023-03-31 23:52:35+07:00          1.200           29   \n",
       "\n",
       "       humidity  air_pressure  rain_level  ultra_violet_a  hour  month  \n",
       "0            83          1010           0            0.02     0      3  \n",
       "1            82          1010           0            0.03     0      3  \n",
       "2            83          1010           0            0.02     0      3  \n",
       "3            83          1010           0            0.02     0      3  \n",
       "4            83          1010           0            0.02     0      3  \n",
       "...         ...           ...         ...             ...   ...    ...  \n",
       "51856        78          1008           0            0.02    23      3  \n",
       "51857        77          1008           0            0.02    23      3  \n",
       "51858        77          1008           0            0.02    23      3  \n",
       "51859        77          1008           0            0.02    23      3  \n",
       "51860        77          1008           0            0.02    23      3  \n",
       "\n",
       "[51861 rows x 10 columns]"
      ]
     },
     "execution_count": 130,
     "metadata": {},
     "output_type": "execute_result"
    }
   ],
   "source": [
    "prep_df['time_stamp'] = pd.to_datetime(prep_df['time_stamp'])\n",
    "prep_df['hour'] = prep_df['time_stamp'].dt.hour\n",
    "prep_df['month'] = prep_df['time_stamp'].dt.month\n",
    "prep_df"
   ]
  },
  {
   "cell_type": "code",
   "execution_count": null,
   "metadata": {},
   "outputs": [],
   "source": []
  },
  {
   "cell_type": "code",
   "execution_count": 131,
   "metadata": {},
   "outputs": [
    {
     "name": "stderr",
     "output_type": "stream",
     "text": [
      "C:\\Users\\chusa\\AppData\\Local\\Temp\\ipykernel_25548\\4042299327.py:2: FutureWarning: The default value of numeric_only in DataFrame.corr is deprecated. In a future version, it will default to False. Select only valid columns or specify the value of numeric_only to silence this warning.\n",
      "  sns.heatmap(prep_df.corr(), cmap=\"BuPu\");\n"
     ]
    },
    {
     "data": {
      "image/png": "[encoded data removed]",
      "text/plain": [
       "<Figure size 640x480 with 2 Axes>"
      ]
     },
     "metadata": {},
     "output_type": "display_data"
    }
   ],
   "source": [
    "# find correlation to illuminance level\n",
    "sns.heatmap(prep_df.corr(), cmap=\"BuPu\", annot=True);"
   ]
  },
  {
   "cell_type": "code",
   "execution_count": 72,
   "metadata": {},
   "outputs": [
    {
     "data": {
      "text/plain": [
       "count     4037.000000\n",
       "mean         5.068214\n",
       "std        262.464443\n",
       "min          0.000000\n",
       "25%          0.602000\n",
       "50%          0.869000\n",
       "75%          1.232000\n",
       "max      16677.216797\n",
       "Name: wind_velocity, dtype: float64"
      ]
     },
     "execution_count": 72,
     "metadata": {},
     "output_type": "execute_result"
    }
   ],
   "source": [
    "all_df.wind_velocity.describe()"
   ]
  },
  {
   "cell_type": "code",
   "execution_count": 20,
   "metadata": {},
   "outputs": [
    {
     "name": "stdout",
     "output_type": "stream",
     "text": [
      "We have 4031 Datapoints.\n"
     ]
    }
   ],
   "source": [
    "n_timestamp=all_df[\"time_stamp\"].nunique()\n",
    "print(\"We have \" +str(n_timestamp)+\" Datapoints.\")"
   ]
  },
  {
   "cell_type": "code",
   "execution_count": 57,
   "metadata": {},
   "outputs": [],
   "source": [
    "def cutOut(df,colName): # Cut outlier function\n",
    "    q1=df[colName].quantile(0.25)\n",
    "    q3=df[colName].quantile(0.75)\n",
    "    IQR=q3-q1\n",
    "    ol = df[(df[colName]<q1-1.5*IQR)|(df[colName]>q3 +1.5*IQR)].index\n",
    "    cut_df=df.drop(ol)\n",
    "    return cut_df"
   ]
  },
  {
   "cell_type": "markdown",
   "metadata": {},
   "source": [
    "## check outlier with Box plot, then clear it"
   ]
  },
  {
   "cell_type": "code",
   "execution_count": 59,
   "metadata": {},
   "outputs": [
    {
     "data": {
      "text/plain": [
       "<Axes: xlabel='wind_velocity'>"
      ]
     },
     "execution_count": 59,
     "metadata": {},
     "output_type": "execute_result"
    },
    {
     "data": {
      "image/png": "[encoded data removed]",
      "text/plain": [
       "<Figure size 640x480 with 1 Axes>"
      ]
     },
     "metadata": {},
     "output_type": "display_data"
    }
   ],
   "source": [
    "# use box plot to check outlier\n",
    "sns.boxplot(data=all_df,x=\"wind_velocity\")"
   ]
  },
  {
   "cell_type": "code",
   "execution_count": 58,
   "metadata": {},
   "outputs": [
    {
     "data": {
      "text/plain": [
       "<Axes: xlabel='wind_direction'>"
      ]
     },
     "execution_count": 58,
     "metadata": {},
     "output_type": "execute_result"
    },
    {
     "data": {
      "image/png": "[encoded data removed]",
      "text/plain": [
       "<Figure size 640x480 with 1 Axes>"
      ]
     },
     "metadata": {},
     "output_type": "display_data"
    }
   ],
   "source": [
    "sns.boxplot(data=all_df,x=\"wind_direction\")"
   ]
  },
  {
   "cell_type": "code",
   "execution_count": 56,
   "metadata": {},
   "outputs": [
    {
     "data": {
      "text/plain": [
       "<Axes: xlabel='temperature'>"
      ]
     },
     "execution_count": 56,
     "metadata": {},
     "output_type": "execute_result"
    },
    {
     "data": {
      "image/png": "[encoded data removed]",
      "text/plain": [
       "<Figure size 640x480 with 1 Axes>"
      ]
     },
     "metadata": {},
     "output_type": "display_data"
    }
   ],
   "source": [
    "sns.boxplot(data=all_df,x=\"temperature\")"
   ]
  },
  {
   "cell_type": "code",
   "execution_count": 61,
   "metadata": {},
   "outputs": [
    {
     "data": {
      "text/plain": [
       "<Axes: xlabel='humidity'>"
      ]
     },
     "execution_count": 61,
     "metadata": {},
     "output_type": "execute_result"
    },
    {
     "data": {
      "image/png": "[encoded data removed]",
      "text/plain": [
       "<Figure size 640x480 with 1 Axes>"
      ]
     },
     "metadata": {},
     "output_type": "display_data"
    }
   ],
   "source": [
    "sns.boxplot(data=all_df,x=\"humidity\")"
   ]
  },
  {
   "cell_type": "code",
   "execution_count": 62,
   "metadata": {},
   "outputs": [
    {
     "data": {
      "text/plain": [
       "<Axes: xlabel='air_pressure'>"
      ]
     },
     "execution_count": 62,
     "metadata": {},
     "output_type": "execute_result"
    },
    {
     "data": {
      "image/png": "[encoded data removed]",
      "text/plain": [
       "<Figure size 640x480 with 1 Axes>"
      ]
     },
     "metadata": {},
     "output_type": "display_data"
    }
   ],
   "source": [
    "sns.boxplot(data=all_df,x=\"air_pressure\")"
   ]
  },
  {
   "cell_type": "code",
   "execution_count": 63,
   "metadata": {},
   "outputs": [
    {
     "data": {
      "text/plain": [
       "<Axes: xlabel='illuminance'>"
      ]
     },
     "execution_count": 63,
     "metadata": {},
     "output_type": "execute_result"
    },
    {
     "data": {
      "image/png": "[encoded data removed]",
      "text/plain": [
       "<Figure size 640x480 with 1 Axes>"
      ]
     },
     "metadata": {},
     "output_type": "display_data"
    }
   ],
   "source": [
    "sns.boxplot(data=all_df,x=\"illuminance\")"
   ]
  },
  {
   "cell_type": "code",
   "execution_count": 64,
   "metadata": {},
   "outputs": [
    {
     "data": {
      "text/plain": [
       "<Axes: xlabel='rain_level'>"
      ]
     },
     "execution_count": 64,
     "metadata": {},
     "output_type": "execute_result"
    },
    {
     "data": {
      "image/png": "[encoded data removed]",
      "text/plain": [
       "<Figure size 640x480 with 1 Axes>"
      ]
     },
     "metadata": {},
     "output_type": "display_data"
    }
   ],
   "source": [
    "sns.boxplot(data=all_df,x=\"rain_level\")"
   ]
  },
  {
   "cell_type": "code",
   "execution_count": 47,
   "metadata": {},
   "outputs": [
    {
     "data": {
      "text/plain": [
       "count    3986.000000\n",
       "mean        0.919588\n",
       "std         0.441574\n",
       "min         0.000000\n",
       "25%         0.599000\n",
       "50%         0.863000\n",
       "75%         1.211000\n",
       "max         2.177000\n",
       "Name: wind_velocity, dtype: float64"
      ]
     },
     "execution_count": 47,
     "metadata": {},
     "output_type": "execute_result"
    }
   ],
   "source": [
    "# wind_velocity outliers\n",
    "cwive=cutOut(all_df,\"wind_velocity\")\n",
    "cwive[\"wind_velocity\"].describe()"
   ]
  },
  {
   "cell_type": "code",
   "execution_count": 48,
   "metadata": {},
   "outputs": [
    {
     "data": {
      "text/plain": [
       "count    4036.000000\n",
       "mean      132.950124\n",
       "std       101.978044\n",
       "min         0.000000\n",
       "25%        65.400002\n",
       "50%        87.300003\n",
       "75%       212.749996\n",
       "max       359.899994\n",
       "Name: wind_direction, dtype: float64"
      ]
     },
     "execution_count": 48,
     "metadata": {},
     "output_type": "execute_result"
    }
   ],
   "source": [
    "# wind_velocity outliers\n",
    "cwidi=cutOut(all_df,\"wind_direction\")\n",
    "cwidi[\"wind_direction\"].describe()"
   ]
  },
  {
   "cell_type": "code",
   "execution_count": 49,
   "metadata": {},
   "outputs": [
    {
     "data": {
      "text/plain": [
       "count    4036.000000\n",
       "mean       28.309960\n",
       "std         3.621334\n",
       "min        20.000000\n",
       "25%        26.000000\n",
       "50%        28.000000\n",
       "75%        31.000000\n",
       "max        38.000000\n",
       "Name: temperature, dtype: float64"
      ]
     },
     "execution_count": 49,
     "metadata": {},
     "output_type": "execute_result"
    }
   ],
   "source": [
    "# temp cut outliers\n",
    "ctemp=cutOut(all_df,\"temperature\")\n",
    "ctemp[\"temperature\"].describe()"
   ]
  },
  {
   "cell_type": "code",
   "execution_count": null,
   "metadata": {},
   "outputs": [],
   "source": []
  },
  {
   "cell_type": "code",
   "execution_count": null,
   "metadata": {},
   "outputs": [],
   "source": []
  },
  {
   "cell_type": "code",
   "execution_count": 50,
   "metadata": {},
   "outputs": [
    {
     "data": {
      "text/plain": [
       "<Axes: xlabel='wind_velocity', ylabel='Count'>"
      ]
     },
     "execution_count": 50,
     "metadata": {},
     "output_type": "execute_result"
    },
    {
     "data": {
      "image/png": "[encoded data removed]",
      "text/plain": [
       "<Figure size 640x480 with 1 Axes>"
      ]
     },
     "metadata": {},
     "output_type": "display_data"
    }
   ],
   "source": [
    "sns.histplot(data=cwive, x=\"wind_velocity\",bins=45)"
   ]
  },
  {
   "cell_type": "code",
   "execution_count": 51,
   "metadata": {},
   "outputs": [
    {
     "data": {
      "text/plain": [
       "<Axes: xlabel='wind_direction', ylabel='Count'>"
      ]
     },
     "execution_count": 51,
     "metadata": {},
     "output_type": "execute_result"
    },
    {
     "data": {
      "image/png": "[encoded data removed]",
      "text/plain": [
       "<Figure size 640x480 with 1 Axes>"
      ]
     },
     "metadata": {},
     "output_type": "display_data"
    }
   ],
   "source": [
    "sns.histplot(data=cwidi, x=\"wind_direction\",bins=45)"
   ]
  },
  {
   "cell_type": "code",
   "execution_count": 41,
   "metadata": {},
   "outputs": [
    {
     "data": {
      "text/plain": [
       "<Axes: xlabel='temperature', ylabel='Count'>"
      ]
     },
     "execution_count": 41,
     "metadata": {},
     "output_type": "execute_result"
    },
    {
     "data": {
      "image/png": "[encoded data removed]",
      "text/plain": [
       "<Figure size 640x480 with 1 Axes>"
      ]
     },
     "metadata": {},
     "output_type": "display_data"
    }
   ],
   "source": [
    "sns.histplot(data=ctemp, x=\"temperature\",bins=30)"
   ]
  },
  {
   "cell_type": "code",
   "execution_count": null,
   "metadata": {},
   "outputs": [],
   "source": []
  },
  {
   "cell_type": "code",
   "execution_count": null,
   "metadata": {},
   "outputs": [],
   "source": []
  }
 ],
 "metadata": {
  "kernelspec": {
   "display_name": "Python 3 (ipykernel)",
   "language": "python",
   "name": "python3"
  },
  "language_info": {
   "codemirror_mode": {
    "name": "ipython",
    "version": 3
   },
   "file_extension": ".py",
   "mimetype": "text/x-python",
   "name": "python",
   "nbconvert_exporter": "python",
   "pygments_lexer": "ipython3",
   "version": "3.9.16"
  }
 },
 "nbformat": 4,
 "nbformat_minor": 2
}
